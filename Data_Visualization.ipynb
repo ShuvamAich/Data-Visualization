{
  "nbformat": 4,
  "nbformat_minor": 0,
  "metadata": {
    "colab": {
      "name": "Data Visualization.ipynb",
      "provenance": [],
      "collapsed_sections": [],
      "authorship_tag": "ABX9TyP5yhuUTpelqFPNTK39Szoy",
      "include_colab_link": true
    },
    "kernelspec": {
      "name": "python3",
      "display_name": "Python 3"
    }
  },
  "cells": [
    {
      "cell_type": "markdown",
      "metadata": {
        "id": "view-in-github",
        "colab_type": "text"
      },
      "source": [
        "<a href=\"https://colab.research.google.com/github/ShuvamAich/Data-Visualization/blob/main/Data_Visualization.ipynb\" target=\"_parent\"><img src=\"https://colab.research.google.com/assets/colab-badge.svg\" alt=\"Open In Colab\"/></a>"
      ]
    },
    {
      "cell_type": "markdown",
      "metadata": {
        "id": "N4saFOoiaWAP"
      },
      "source": [
        "#**Week 1** Introduction to Matplotlib"
      ]
    },
    {
      "cell_type": "markdown",
      "metadata": {
        "id": "ciJ5wBDIbJGp"
      },
      "source": [
        "Histogram Generation using Artist Layer"
      ]
    },
    {
      "cell_type": "code",
      "metadata": {
        "id": "ZAZJEQqhbNi7"
      },
      "source": [
        "from matplotlib.backends.backend_agg import FigureCanvasAgg as fg"
      ],
      "execution_count": 11,
      "outputs": []
    },
    {
      "cell_type": "code",
      "metadata": {
        "id": "5_kLs2wRbsUs"
      },
      "source": [
        "from matplotlib.figure import Figure"
      ],
      "execution_count": 12,
      "outputs": []
    },
    {
      "cell_type": "code",
      "metadata": {
        "id": "ZsoyKZHLb2dh"
      },
      "source": [
        "fig=Figure()"
      ],
      "execution_count": 13,
      "outputs": []
    },
    {
      "cell_type": "code",
      "metadata": {
        "id": "sJk3BSKDb-NQ"
      },
      "source": [
        "canvas=fg(fig)"
      ],
      "execution_count": 14,
      "outputs": []
    },
    {
      "cell_type": "code",
      "metadata": {
        "id": "l1Y68aexcDqC"
      },
      "source": [
        "#create 10000 random numbers using numpy\r\n",
        "import numpy as np\r\n",
        "x=np.random.randn(10000) "
      ],
      "execution_count": 15,
      "outputs": []
    },
    {
      "cell_type": "code",
      "metadata": {
        "colab": {
          "base_uri": "https://localhost:8080/"
        },
        "id": "o_6jlQqFcoXR",
        "outputId": "507a5385-d6b5-4c67-c7ba-7c0badba570b"
      },
      "source": [
        "ax=fig.add_subplot(111) #create an axes artist\r\n",
        "ax.hist(x, 100) #generate a histogram of 10000 random numbers"
      ],
      "execution_count": 16,
      "outputs": [
        {
          "output_type": "execute_result",
          "data": {
            "text/plain": [
              "(array([  1.,   1.,   2.,   1.,   3.,   0.,   3.,   3.,   7.,   9.,  11.,\n",
              "         11.,  12.,  13.,  14.,  15.,  21.,  36.,  33.,  50.,  43.,  53.,\n",
              "         48.,  60.,  87.,  89.,  93., 102., 110., 141., 141., 141., 200.,\n",
              "        199., 207., 206., 222., 248., 230., 244., 314., 296., 265., 298.,\n",
              "        295., 287., 279., 294., 293., 269., 292., 307., 305., 243., 287.,\n",
              "        235., 211., 215., 191., 181., 151., 181., 149., 152., 115., 109.,\n",
              "         88.,  69.,  74.,  65.,  60.,  58.,  41.,  32.,  32.,  28.,  28.,\n",
              "         12.,  16.,   7.,  11.,   9.,  10.,   9.,   3.,   2.,   7.,   3.,\n",
              "          3.,   3.,   1.,   1.,   1.,   0.,   2.,   0.,   0.,   0.,   0.,\n",
              "          1.]),\n",
              " array([-3.54700174, -3.47078973, -3.39457771, -3.31836569, -3.24215368,\n",
              "        -3.16594166, -3.08972965, -3.01351763, -2.93730562, -2.8610936 ,\n",
              "        -2.78488158, -2.70866957, -2.63245755, -2.55624554, -2.48003352,\n",
              "        -2.4038215 , -2.32760949, -2.25139747, -2.17518546, -2.09897344,\n",
              "        -2.02276143, -1.94654941, -1.87033739, -1.79412538, -1.71791336,\n",
              "        -1.64170135, -1.56548933, -1.48927731, -1.4130653 , -1.33685328,\n",
              "        -1.26064127, -1.18442925, -1.10821724, -1.03200522, -0.9557932 ,\n",
              "        -0.87958119, -0.80336917, -0.72715716, -0.65094514, -0.57473312,\n",
              "        -0.49852111, -0.42230909, -0.34609708, -0.26988506, -0.19367305,\n",
              "        -0.11746103, -0.04124901,  0.034963  ,  0.11117502,  0.18738703,\n",
              "         0.26359905,  0.33981107,  0.41602308,  0.4922351 ,  0.56844711,\n",
              "         0.64465913,  0.72087115,  0.79708316,  0.87329518,  0.94950719,\n",
              "         1.02571921,  1.10193122,  1.17814324,  1.25435526,  1.33056727,\n",
              "         1.40677929,  1.4829913 ,  1.55920332,  1.63541534,  1.71162735,\n",
              "         1.78783937,  1.86405138,  1.9402634 ,  2.01647541,  2.09268743,\n",
              "         2.16889945,  2.24511146,  2.32132348,  2.39753549,  2.47374751,\n",
              "         2.54995953,  2.62617154,  2.70238356,  2.77859557,  2.85480759,\n",
              "         2.9310196 ,  3.00723162,  3.08344364,  3.15965565,  3.23586767,\n",
              "         3.31207968,  3.3882917 ,  3.46450372,  3.54071573,  3.61692775,\n",
              "         3.69313976,  3.76935178,  3.84556379,  3.92177581,  3.99798783,\n",
              "         4.07419984]),\n",
              " <a list of 100 Patch objects>)"
            ]
          },
          "metadata": {
            "tags": []
          },
          "execution_count": 16
        }
      ]
    },
    {
      "cell_type": "code",
      "metadata": {
        "id": "Z_915xCkcrZX"
      },
      "source": [
        "ax.set_title('Normal Distribution with $\\mu=0, \\sigma=1$')\r\n",
        "fig.savefig('matplotlib_histogram.png')"
      ],
      "execution_count": 17,
      "outputs": []
    },
    {
      "cell_type": "code",
      "metadata": {
        "id": "5ulZtkuzdYeh"
      },
      "source": [
        ""
      ],
      "execution_count": 17,
      "outputs": []
    }
  ]
}